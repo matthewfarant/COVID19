{
  "nbformat": 4,
  "nbformat_minor": 0,
  "metadata": {
    "colab": {
      "name": "SA_Matthew.ipynb",
      "provenance": [],
      "collapsed_sections": [],
      "toc_visible": true,
      "authorship_tag": "ABX9TyNKkIs3T0SZ3uHsb2Jeev1C",
      "include_colab_link": true
    },
    "kernelspec": {
      "name": "ir",
      "display_name": "R"
    }
  },
  "cells": [
    {
      "cell_type": "markdown",
      "metadata": {
        "id": "view-in-github",
        "colab_type": "text"
      },
      "source": [
        "<a href=\"https://colab.research.google.com/github/matthewfarant/COVID19/blob/master/Tweets_Sentiment_Analysis.ipynb\" target=\"_parent\"><img src=\"https://colab.research.google.com/assets/colab-badge.svg\" alt=\"Open In Colab\"/></a>"
      ]
    },
    {
      "cell_type": "markdown",
      "metadata": {
        "id": "2QlO6DYbLn-s",
        "colab_type": "text"
      },
      "source": [
        "# Sentiment Analysis of CNN, BBC, and NYT coronavirus tweets\n",
        "\n"
      ]
    },
    {
      "cell_type": "code",
      "metadata": {
        "id": "XNP-hJkvLFIX",
        "colab_type": "code",
        "colab": {
          "base_uri": "https://localhost:8080/",
          "height": 277
        },
        "outputId": "b1fc3666-735a-4710-ac7c-b373a1630c86"
      },
      "source": [
        "#Load Packages\n",
        "library(tidyverse)\n",
        "library(tidytext)\n",
        "library(textclean)\n",
        "library(sentimentr)\n",
        "library(tseries)\n",
        "library(lmtest)\n",
        "library(ggpubr)"
      ],
      "execution_count": 9,
      "outputs": [
        {
          "output_type": "stream",
          "text": [
            "Registered S3 method overwritten by 'quantmod':\n",
            "  method            from\n",
            "  as.zoo.data.frame zoo \n",
            "\n",
            "Loading required package: zoo\n",
            "\n",
            "\n",
            "Attaching package: ‘zoo’\n",
            "\n",
            "\n",
            "The following objects are masked from ‘package:base’:\n",
            "\n",
            "    as.Date, as.Date.numeric\n",
            "\n",
            "\n"
          ],
          "name": "stderr"
        }
      ]
    },
    {
      "cell_type": "markdown",
      "metadata": {
        "id": "e9hHw_kTSLnD",
        "colab_type": "text"
      },
      "source": [
        "#1. Scraping Tweets \n",
        "Package used: rtweet \\\\\n",
        "We will use three twitter accounts: @cnnbrk, @nytimes, and @BBCBreaking. These are the news accounts with the highest followers. No need to run the code below because API authorization will not work in Google Colab."
      ]
    },
    {
      "cell_type": "markdown",
      "metadata": {
        "id": "Q-j_vODTOCFt",
        "colab_type": "text"
      },
      "source": [
        "\n",
        "\n",
        "```\n",
        "# (No need to run this...)\n",
        "library(rtweet)\n",
        "########## SCRAPING TWEETS ######################\n",
        "tweet_cnn<-get_timeline(user='@cnnbrk', n = 3200)\n",
        "tweet_nyt<-get_timeline(user='@nytimes', n= 3200)\n",
        "tweet_bbc<-get_timeline(user='@BBCBreaking',n=3200)\n",
        "#################################################\n",
        "keywords<-c('Covid-19','coronavirus','corona','Covid','ncov','2019-ncov')\n",
        "############ KEYWORDS ###########################\n",
        "corona_cnn<-tweet_cnn %>% \n",
        "  filter(grepl(paste(keywords, collapse=\"|\"), text, ignore.case = TRUE))\n",
        "corona_nyt<-tweet_nyt %>% \n",
        "  filter(grepl(paste(keywords, collapse=\"|\"), text, ignore.case = TRUE))\n",
        "corona_bbc<-tweet_bbc %>% \n",
        "  filter(grepl(paste(keywords, collapse=\"|\"), text, ignore.case = TRUE))\n",
        "\n",
        "write.csv(corona_cnn,'corona_cnn.csv')\n",
        "write.csv(corona_bbc,'corona_bbc.csv')\n",
        "write.csv(corona_nyt,'corona_nyt.csv')\n",
        "```\n",
        "\n"
      ]
    },
    {
      "cell_type": "markdown",
      "metadata": {
        "id": "R7yyoUGNStlZ",
        "colab_type": "text"
      },
      "source": [
        "#2. Data Cleaning\n",
        "One of the advantages of using news account is the absence of typos, emojis, and internet slangs that make data cleaning harder. Data cleaning includes removing non-text objects and convert all strings to lowercase (since R is case-sensitive)"
      ]
    },
    {
      "cell_type": "code",
      "metadata": {
        "id": "p-hvhP50M3rm",
        "colab_type": "code",
        "colab": {}
      },
      "source": [
        "############ CORONA #########################\n",
        "corona_cnn<-read.csv('corona_cnn.csv',header=T)\n",
        "corona_bbc<-read.csv('corona_bbc.csv',header=T)\n",
        "corona_nyt<-read.csv('corona_nyt.csv',header=T)\n",
        "\n",
        "corona_cnn %>% \n",
        "  mutate(created_at=as.Date(created_at)) %>% \n",
        "  select(created_at,text)->corona_cnn\n",
        "corona_nyt %>% \n",
        "  mutate(created_at=as.Date(created_at)) %>% \n",
        "  select(created_at,text)->corona_nyt\n",
        "corona_bbc %>% \n",
        "  mutate(created_at=as.Date(created_at)) %>% \n",
        "  select(created_at,text)->corona_bbc\n",
        "############ CLEANING #####################\n",
        "corona_cnn$text %>% \n",
        "  str_to_lower() %>% \n",
        "  replace_contraction() %>% \n",
        "  replace_non_ascii() %>% \n",
        "  replace_url() %>% \n",
        "  strip()->corona_cnn$text\n",
        "corona_nyt$text %>% \n",
        "  str_to_lower() %>% \n",
        "  replace_contraction() %>% \n",
        "  replace_non_ascii() %>% \n",
        "  replace_url() %>% \n",
        "  strip()->corona_nyt$text\n",
        "corona_bbc$text %>% \n",
        "  str_to_lower() %>% \n",
        "  replace_contraction() %>% \n",
        "  replace_non_ascii() %>% \n",
        "  replace_url() %>% \n",
        "  strip()->corona_bbc$text\n",
        "###############################################\n",
        "corona_bbc %>% \n",
        "  filter(created_at>=as.Date('2020-01-01'))->corona_bbc"
      ],
      "execution_count": 10,
      "outputs": []
    },
    {
      "cell_type": "markdown",
      "metadata": {
        "id": "wd0LMeVmTjEp",
        "colab_type": "text"
      },
      "source": [
        "# 3. Sentiment Analysis\n",
        "Polarity analysis of each tweets using sentimentr package"
      ]
    },
    {
      "cell_type": "code",
      "metadata": {
        "id": "yI70p1ScLd0b",
        "colab_type": "code",
        "colab": {}
      },
      "source": [
        "###############################################\n",
        "sentiment_cnn<-cbind(corona_cnn,sentiment_by(corona_cnn$text))\n",
        "sentiment_nyt<-cbind(corona_nyt,sentiment_by(corona_nyt$text))\n",
        "sentiment_bbc<-cbind(corona_bbc,sentiment_by(corona_bbc$text))"
      ],
      "execution_count": 13,
      "outputs": []
    },
    {
      "cell_type": "code",
      "metadata": {
        "id": "goCnB4FSRurw",
        "colab_type": "code",
        "colab": {
          "base_uri": "https://localhost:8080/",
          "height": 472
        },
        "outputId": "3bc5e4cf-9619-415d-a29e-80772b298e67"
      },
      "source": [
        "############## CNN BREAKING NEWS ####################\n",
        "sentiment_cnn %>% \n",
        "  group_by(created_at) %>% \n",
        "  summarize(sentiment=mean(ave_sentiment)) %>% \n",
        "  mutate(Status=ifelse(sentiment>0,'Positive','Negative')) %>% \n",
        "  ggplot(aes(x=created_at,y=sentiment,fill=Status)) + \n",
        "  geom_col()"
      ],
      "execution_count": 14,
      "outputs": [
        {
          "output_type": "stream",
          "text": [
            "`summarise()` ungrouping output (override with `.groups` argument)\n",
            "\n"
          ],
          "name": "stderr"
        },
        {
          "output_type": "display_data",
          "data": {
            "image/png": "[encoded data removed]",
            "text/plain": [
              "plot without title"
            ]
          },
          "metadata": {
            "tags": [],
            "image/png": {
              "width": 420,
              "height": 420
            },
            "text/plain": {
              "width": 420,
              "height": 420
            }
          }
        }
      ]
    },
    {
      "cell_type": "code",
      "metadata": {
        "id": "rDLgX-7iR5JZ",
        "colab_type": "code",
        "colab": {
          "base_uri": "https://localhost:8080/",
          "height": 472
        },
        "outputId": "4bcd3e9c-19fe-441a-a8d9-b13e50e16f16"
      },
      "source": [
        "############## NEW YORK TIMES ##############################\n",
        "sentiment_nyt %>% \n",
        "  group_by(created_at) %>% \n",
        "  summarize(sentiment=mean(ave_sentiment)) %>% \n",
        "  mutate(Status=ifelse(sentiment>0,'Positive','Negative')) %>% \n",
        "  ggplot(aes(x=created_at,y=sentiment,fill=Status)) + \n",
        "  geom_col()"
      ],
      "execution_count": 15,
      "outputs": [
        {
          "output_type": "stream",
          "text": [
            "`summarise()` ungrouping output (override with `.groups` argument)\n",
            "\n"
          ],
          "name": "stderr"
        },
        {
          "output_type": "display_data",
          "data": {
            "image/png": "[encoded data removed]",
            "text/plain": [
              "plot without title"
            ]
          },
          "metadata": {
            "tags": [],
            "image/png": {
              "width": 420,
              "height": 420
            },
            "text/plain": {
              "width": 420,
              "height": 420
            }
          }
        }
      ]
    },
    {
      "cell_type": "code",
      "metadata": {
        "id": "sEIJfAnuR8pW",
        "colab_type": "code",
        "colab": {
          "base_uri": "https://localhost:8080/",
          "height": 472
        },
        "outputId": "f138a07e-05ec-486a-a7a2-ce43142e5146"
      },
      "source": [
        "################# BBC BREAKING NEWS ############################\n",
        "sentiment_bbc %>% \n",
        "  group_by(created_at) %>% \n",
        "  summarize(sentiment=mean(ave_sentiment)) %>% \n",
        "  mutate(Status=ifelse(sentiment>0,'Positive','Negative')) %>% \n",
        "  ggplot(aes(x=created_at,y=sentiment,fill=Status)) + \n",
        "  geom_col()"
      ],
      "execution_count": 16,
      "outputs": [
        {
          "output_type": "stream",
          "text": [
            "`summarise()` ungrouping output (override with `.groups` argument)\n",
            "\n"
          ],
          "name": "stderr"
        },
        {
          "output_type": "display_data",
          "data": {
            "image/png": "[encoded data removed]",
            "text/plain": [
              "plot without title"
            ]
          },
          "metadata": {
            "tags": [],
            "image/png": {
              "width": 420,
              "height": 420
            },
            "text/plain": {
              "width": 420,
              "height": 420
            }
          }
        }
      ]
    },
    {
      "cell_type": "markdown",
      "metadata": {
        "id": "OjMW17Z0T-2L",
        "colab_type": "text"
      },
      "source": [
        "## Emotion Analysis\n",
        "Examine the top 8 emotions for each twitter account "
      ]
    },
    {
      "cell_type": "code",
      "metadata": {
        "id": "CIBy1wV-SC87",
        "colab_type": "code",
        "colab": {
          "base_uri": "https://localhost:8080/",
          "height": 611
        },
        "outputId": "de06df41-ecbb-455b-9e5f-481b6bf06400"
      },
      "source": [
        "###########################################################\n",
        "sentiment_cnn %>% \n",
        "  group_by(created_at) %>% \n",
        "  summarize(sentiment=mean(ave_sentiment))->sentiment_cnn_sum \n",
        "sentiment_bbc %>% \n",
        "  group_by(created_at) %>% \n",
        "  summarize(sentiment=mean(ave_sentiment))->sentiment_bbc_sum\n",
        "################### CNN BBC JOINED #######################\n",
        "sentiment_cnn_sum %>% \n",
        "  select(created_at,sentiment) %>% \n",
        "  inner_join(sentiment_bbc_sum,by='created_at',suffix=c('_cnn','_bbc')) %>% \n",
        "  mutate(sentiment_mean=(sentiment_cnn+sentiment_bbc)/2)->sentiment_cnn_bbc_joined\n",
        "#############EMOTION #############################\n",
        "emotion_cnn<-emotion_by(corona_cnn$text)\n",
        "emotion_cnn %>% \n",
        "  filter(ave_emotion>0) %>% \n",
        "  group_by(emotion_type) %>% \n",
        "  summarize(word_count=sum(word_count)) %>% \n",
        "  arrange(desc(word_count)) %>% \n",
        "  head(8) %>% \n",
        "  mutate(emotion_type=fct_reorder(emotion_type,word_count)) %>% \n",
        "  ggplot(aes(emotion_type,word_count))+\n",
        "  geom_col()+\n",
        "  coord_flip()+\n",
        "  labs(y='Word Count',x=' ',title='CNN Breaking News')->emotion_plot_cnn\n",
        "emotion_bbc<-emotion_by(corona_bbc$text)\n",
        "emotion_bbc %>% \n",
        "  filter(ave_emotion>0) %>% \n",
        "  group_by(emotion_type) %>% \n",
        "  summarize(word_count=sum(word_count)) %>% \n",
        "  arrange(desc(word_count)) %>% \n",
        "  head(8) %>% \n",
        "  mutate(emotion_type=fct_reorder(emotion_type,word_count)) %>% \n",
        "  ggplot(aes(emotion_type,word_count))+\n",
        "  geom_col()+\n",
        "  coord_flip()+\n",
        "  labs(x='Emotion Type', y= \" \", title='BBC Breaking News')->emotion_plot_bbc\n",
        "emotion_nyt<-emotion_by(corona_nyt$text)\n",
        "emotion_nyt %>% \n",
        "  filter(ave_emotion>0) %>% \n",
        "  group_by(emotion_type) %>% \n",
        "  summarize(word_count=sum(word_count)) %>% \n",
        "  arrange(desc(word_count)) %>% \n",
        "  head(8) %>% \n",
        "  mutate(emotion_type=fct_reorder(emotion_type,word_count)) %>% \n",
        "  ggplot(aes(emotion_type,word_count))+\n",
        "  geom_col()+\n",
        "  coord_flip()+\n",
        "  labs(x=NULL,y=\" \",title='New York Times')->emotion_plot_nyt\n",
        "\n",
        "ggarrange(emotion_plot_bbc,emotion_plot_cnn,emotion_plot_nyt,\n",
        "          ncol=3,nrow=1)\n",
        "####################################################################"
      ],
      "execution_count": 17,
      "outputs": [
        {
          "output_type": "stream",
          "text": [
            "`summarise()` ungrouping output (override with `.groups` argument)\n",
            "\n",
            "`summarise()` ungrouping output (override with `.groups` argument)\n",
            "\n",
            "`summarise()` ungrouping output (override with `.groups` argument)\n",
            "\n",
            "`summarise()` ungrouping output (override with `.groups` argument)\n",
            "\n",
            "`summarise()` ungrouping output (override with `.groups` argument)\n",
            "\n"
          ],
          "name": "stderr"
        },
        {
          "output_type": "display_data",
          "data": {
            "image/png": "[encoded data removed]",
            "text/plain": [
              "plot without title"
            ]
          },
          "metadata": {
            "tags": [],
            "image/png": {
              "width": 420,
              "height": 420
            },
            "text/plain": {
              "width": 420,
              "height": 420
            }
          }
        }
      ]
    },
    {
      "cell_type": "markdown",
      "metadata": {
        "id": "VzFbGN0eUJrw",
        "colab_type": "text"
      },
      "source": [
        "## Statistical Test\n",
        "Granger-Causality and Cross-Correlation"
      ]
    },
    {
      "cell_type": "code",
      "metadata": {
        "id": "GYISWACBLlIt",
        "colab_type": "code",
        "colab": {}
      },
      "source": [
        "################## VIX ########################\n",
        "vix<-read.csv(file.choose())\n",
        "vix$Date<-as.Date(vix$Date,format = '%m/%d/%Y')\n",
        "vix<-vix %>% \n",
        "  filter(Date>=as.Date('2020-01-01'))\n",
        "changevix<-c()\n",
        "for(i in 1:nrow(vix)){\n",
        "  changevix[i]<-(vix$VIX.Close[i+1]-vix$VIX.Close[i])/vix$VIX.Close[i]\n",
        "}\n",
        "vix<-vix %>% mutate(changevix=changevix)\n",
        "####################################################################\n",
        "sentiment_cnn_bbc_joined %>% \n",
        "  inner_join(vix,by=c('created_at'='Date'))->vix_sent_joined\n",
        "####################################################################\n",
        "vix_sent_1<-vix_sent_joined[1:20,]\n",
        "vix_sent_2<-vix_sent_joined[21:40,]\n",
        "vix_sent_3<-vix_sent_joined[41:60,]\n",
        "broom::tidy(grangertest(vix_sent_1$sentiment_mean,vix_sent_1$changevix,order=5))"
      ],
      "execution_count": null,
      "outputs": []
    }
  ]
}